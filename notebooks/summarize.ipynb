{
 "cells": [
  {
   "cell_type": "markdown",
   "metadata": {},
   "source": [
    "# Loading and Summarizing The Model\n",
    "\n",
    "This notebook will load the model and summarize it so that we can understand the model better.\n"
   ]
  },
  {
   "cell_type": "code",
   "execution_count": 7,
   "metadata": {},
   "outputs": [
    {
     "data": {
      "text/plain": [
       "'2.2.2'"
      ]
     },
     "execution_count": 7,
     "metadata": {},
     "output_type": "execute_result"
    }
   ],
   "source": [
    "import sys\n",
    "import torch\n",
    "\n",
    "# Add the path to the parent directory to allow direct import from the gpt package\n",
    "sys.path.append(\"../\")\n",
    "\n",
    "torch.__version__"
   ]
  },
  {
   "cell_type": "markdown",
   "metadata": {},
   "source": [
    "## Use an accelerator if available\n"
   ]
  },
  {
   "cell_type": "code",
   "execution_count": 8,
   "metadata": {},
   "outputs": [
    {
     "data": {
      "text/plain": [
       "device(type='mps')"
      ]
     },
     "execution_count": 8,
     "metadata": {},
     "output_type": "execute_result"
    }
   ],
   "source": [
    "device = torch.device(\"cpu\")\n",
    "\n",
    "if torch.backends.mps.is_available():\n",
    "    device = torch.device(\"mps\")\n",
    "elif torch.cuda.is_available():\n",
    "    device = torch.device(\"cuda\")\n",
    "\n",
    "device"
   ]
  },
  {
   "cell_type": "markdown",
   "metadata": {},
   "source": [
    "## Load a dataset to get an acturate vocabulary size\n"
   ]
  },
  {
   "cell_type": "code",
   "execution_count": 14,
   "metadata": {},
   "outputs": [
    {
     "data": {
      "text/html": [
       "<div>\n",
       "<style scoped>\n",
       "    .dataframe tbody tr th:only-of-type {\n",
       "        vertical-align: middle;\n",
       "    }\n",
       "\n",
       "    .dataframe tbody tr th {\n",
       "        vertical-align: top;\n",
       "    }\n",
       "\n",
       "    .dataframe thead th {\n",
       "        text-align: right;\n",
       "    }\n",
       "</style>\n",
       "<table border=\"1\" class=\"dataframe\">\n",
       "  <thead>\n",
       "    <tr style=\"text-align: right;\">\n",
       "      <th></th>\n",
       "      <th>Parameter</th>\n",
       "      <th>Value</th>\n",
       "    </tr>\n",
       "  </thead>\n",
       "  <tbody>\n",
       "    <tr>\n",
       "      <th>0</th>\n",
       "      <td>Data path</td>\n",
       "      <td>../data/bible-kjv.txt</td>\n",
       "    </tr>\n",
       "    <tr>\n",
       "      <th>1</th>\n",
       "      <td>Sequence length</td>\n",
       "      <td>10</td>\n",
       "    </tr>\n",
       "    <tr>\n",
       "      <th>2</th>\n",
       "      <td>Dataset length</td>\n",
       "      <td>4351869</td>\n",
       "    </tr>\n",
       "    <tr>\n",
       "      <th>3</th>\n",
       "      <td>Vocabulary size</td>\n",
       "      <td>62</td>\n",
       "    </tr>\n",
       "  </tbody>\n",
       "</table>\n",
       "</div>"
      ],
      "text/plain": [
       "         Parameter                  Value\n",
       "0        Data path  ../data/bible-kjv.txt\n",
       "1  Sequence length                     10\n",
       "2   Dataset length                4351869\n",
       "3  Vocabulary size                     62"
      ]
     },
     "execution_count": 14,
     "metadata": {},
     "output_type": "execute_result"
    }
   ],
   "source": [
    "import pandas as pd\n",
    "from gpt.datasets import CharacterLevelTextDataset\n",
    "from pathlib import Path\n",
    "\n",
    "TEXT_DATA_PATH = Path(\"../data/bible-kjv.txt\")\n",
    "SEQUENCE_LENGTH = 10\n",
    "\n",
    "# Create a dataset from the text file\n",
    "dataset = CharacterLevelTextDataset(TEXT_DATA_PATH, SEQUENCE_LENGTH)\n",
    "characteristics = {\n",
    "    \"Data path\": TEXT_DATA_PATH,\n",
    "    \"Sequence length\": f\"{SEQUENCE_LENGTH}\",\n",
    "    \"Dataset length\": f\"{len(dataset)}\",\n",
    "    \"Vocabulary size\": f\"{dataset.vocab_size}\",\n",
    "}\n",
    "\n",
    "df = pd.DataFrame(characteristics.items(), columns=[\"Parameter\", \"Value\"])\n",
    "df"
   ]
  },
  {
   "cell_type": "markdown",
   "metadata": {},
   "source": [
    "## Instantiate and summarize the model\n"
   ]
  },
  {
   "cell_type": "code",
   "execution_count": 10,
   "metadata": {},
   "outputs": [
    {
     "data": {
      "text/plain": [
       "==========================================================================================\n",
       "Layer (type:depth-idx)                   Output Shape              Param #\n",
       "==========================================================================================\n",
       "GPT2                                     [1, 10, 62]               --\n",
       "├─Embedding: 1-1                         [1, 10, 128]              7,936\n",
       "├─Embedding: 1-2                         [1, 10, 128]              128,000\n",
       "├─ModuleList: 1-3                        --                        --\n",
       "│    └─TransformerBlock: 2-1             [1, 10, 128]              --\n",
       "│    │    └─MultiHeadAttention: 3-1      [1, 10, 128]              66,048\n",
       "│    │    └─LayerNorm: 3-2               [1, 10, 128]              256\n",
       "│    │    └─Dropout: 3-3                 [1, 10, 128]              --\n",
       "│    │    └─Sequential: 3-4              [1, 10, 128]              65,920\n",
       "│    │    └─LayerNorm: 3-5               [1, 10, 128]              256\n",
       "│    │    └─Dropout: 3-6                 [1, 10, 128]              --\n",
       "│    └─TransformerBlock: 2-2             [1, 10, 128]              --\n",
       "│    │    └─MultiHeadAttention: 3-7      [1, 10, 128]              66,048\n",
       "│    │    └─LayerNorm: 3-8               [1, 10, 128]              256\n",
       "│    │    └─Dropout: 3-9                 [1, 10, 128]              --\n",
       "│    │    └─Sequential: 3-10             [1, 10, 128]              65,920\n",
       "│    │    └─LayerNorm: 3-11              [1, 10, 128]              256\n",
       "│    │    └─Dropout: 3-12                [1, 10, 128]              --\n",
       "│    └─TransformerBlock: 2-3             [1, 10, 128]              --\n",
       "│    │    └─MultiHeadAttention: 3-13     [1, 10, 128]              66,048\n",
       "│    │    └─LayerNorm: 3-14              [1, 10, 128]              256\n",
       "│    │    └─Dropout: 3-15                [1, 10, 128]              --\n",
       "│    │    └─Sequential: 3-16             [1, 10, 128]              65,920\n",
       "│    │    └─LayerNorm: 3-17              [1, 10, 128]              256\n",
       "│    │    └─Dropout: 3-18                [1, 10, 128]              --\n",
       "│    └─TransformerBlock: 2-4             [1, 10, 128]              --\n",
       "│    │    └─MultiHeadAttention: 3-19     [1, 10, 128]              66,048\n",
       "│    │    └─LayerNorm: 3-20              [1, 10, 128]              256\n",
       "│    │    └─Dropout: 3-21                [1, 10, 128]              --\n",
       "│    │    └─Sequential: 3-22             [1, 10, 128]              65,920\n",
       "│    │    └─LayerNorm: 3-23              [1, 10, 128]              256\n",
       "│    │    └─Dropout: 3-24                [1, 10, 128]              --\n",
       "├─LayerNorm: 1-4                         [1, 10, 128]              256\n",
       "├─Linear: 1-5                            [1, 10, 62]               7,998\n",
       "==========================================================================================\n",
       "Total params: 674,110\n",
       "Trainable params: 674,110\n",
       "Non-trainable params: 0\n",
       "Total mult-adds (M): 0.67\n",
       "==========================================================================================\n",
       "Input size (MB): 0.00\n",
       "Forward/backward pass size (MB): 0.40\n",
       "Params size (MB): 2.70\n",
       "Estimated Total Size (MB): 3.10\n",
       "=========================================================================================="
      ]
     },
     "execution_count": 10,
     "metadata": {},
     "output_type": "execute_result"
    }
   ],
   "source": [
    "from gpt import GPT2\n",
    "from pathlib import Path\n",
    "from torchinfo import summary\n",
    "\n",
    "VOCAB_SIZE = dataset.vocab_size\n",
    "SUMMARY_PATH = Path(\"../gpt2_summary.txt\")\n",
    "\n",
    "model = GPT2(\n",
    "    vocab_size=VOCAB_SIZE,\n",
    "    embedding_size=128,\n",
    "    num_heads=4,\n",
    "    num_layers=4,\n",
    "    hidden_size=256,\n",
    ").to(device)\n",
    "\n",
    "input_ids = torch.randint(0, VOCAB_SIZE, (1, 10)).to(device)\n",
    "summary = summary(model, input_data=input_ids)\n",
    "\n",
    "with open(SUMMARY_PATH, \"w\") as f:\n",
    "    f.write(str(summary))\n",
    "\n",
    "summary"
   ]
  }
 ],
 "metadata": {
  "kernelspec": {
   "display_name": ".venv",
   "language": "python",
   "name": "python3"
  },
  "language_info": {
   "codemirror_mode": {
    "name": "ipython",
    "version": 3
   },
   "file_extension": ".py",
   "mimetype": "text/x-python",
   "name": "python",
   "nbconvert_exporter": "python",
   "pygments_lexer": "ipython3",
   "version": "3.10.13"
  }
 },
 "nbformat": 4,
 "nbformat_minor": 2
}
