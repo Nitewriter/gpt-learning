{
 "cells": [
  {
   "cell_type": "markdown",
   "metadata": {},
   "source": [
    "# Loading and Summarizing The Model\n",
    "\n",
    "This notebook will load the model and summarize it so that we can understand the model better.\n"
   ]
  },
  {
   "cell_type": "code",
   "execution_count": 1,
   "metadata": {},
   "outputs": [
    {
     "data": {
      "text/plain": [
       "'2.2.2'"
      ]
     },
     "execution_count": 1,
     "metadata": {},
     "output_type": "execute_result"
    }
   ],
   "source": [
    "%load_ext autoreload\n",
    "%autoreload 2\n",
    "\n",
    "import sys\n",
    "import torch\n",
    "\n",
    "sys.path.append('../')\n",
    "\n",
    "torch.__version__"
   ]
  },
  {
   "cell_type": "markdown",
   "metadata": {},
   "source": [
    "## Use an accelerator if available\n"
   ]
  },
  {
   "cell_type": "code",
   "execution_count": 2,
   "metadata": {},
   "outputs": [
    {
     "data": {
      "text/plain": [
       "device(type='mps')"
      ]
     },
     "execution_count": 2,
     "metadata": {},
     "output_type": "execute_result"
    }
   ],
   "source": [
    "device = torch.device(\"cpu\")\n",
    "\n",
    "if torch.backends.mps.is_available():\n",
    "    device = torch.device(\"mps\")\n",
    "elif torch.cuda.is_available():\n",
    "    device = torch.device(\"cuda\")\n",
    "\n",
    "device"
   ]
  },
  {
   "cell_type": "markdown",
   "metadata": {},
   "source": [
    "## Load a dataset to get an acturate vocabulary size\n"
   ]
  },
  {
   "cell_type": "code",
   "execution_count": 3,
   "metadata": {},
   "outputs": [
    {
     "data": {
      "text/markdown": [
       "### Dataset Characteristics"
      ],
      "text/plain": [
       "<IPython.core.display.Markdown object>"
      ]
     },
     "metadata": {},
     "output_type": "display_data"
    },
    {
     "data": {
      "text/html": [
       "<div>\n",
       "<style scoped>\n",
       "    .dataframe tbody tr th:only-of-type {\n",
       "        vertical-align: middle;\n",
       "    }\n",
       "\n",
       "    .dataframe tbody tr th {\n",
       "        vertical-align: top;\n",
       "    }\n",
       "\n",
       "    .dataframe thead th {\n",
       "        text-align: right;\n",
       "    }\n",
       "</style>\n",
       "<table border=\"1\" class=\"dataframe\">\n",
       "  <thead>\n",
       "    <tr style=\"text-align: right;\">\n",
       "      <th></th>\n",
       "      <th>Parameter</th>\n",
       "      <th>Value</th>\n",
       "    </tr>\n",
       "  </thead>\n",
       "  <tbody>\n",
       "    <tr>\n",
       "      <th>0</th>\n",
       "      <td>Data path</td>\n",
       "      <td>../data/bible-kjv.txt</td>\n",
       "    </tr>\n",
       "    <tr>\n",
       "      <th>1</th>\n",
       "      <td>Sequence length</td>\n",
       "      <td>3</td>\n",
       "    </tr>\n",
       "    <tr>\n",
       "      <th>2</th>\n",
       "      <td>Dataset length</td>\n",
       "      <td>4351876</td>\n",
       "    </tr>\n",
       "    <tr>\n",
       "      <th>3</th>\n",
       "      <td>Vocabulary size</td>\n",
       "      <td>62</td>\n",
       "    </tr>\n",
       "  </tbody>\n",
       "</table>\n",
       "</div>"
      ],
      "text/plain": [
       "         Parameter                  Value\n",
       "0        Data path  ../data/bible-kjv.txt\n",
       "1  Sequence length                      3\n",
       "2   Dataset length                4351876\n",
       "3  Vocabulary size                     62"
      ]
     },
     "metadata": {},
     "output_type": "display_data"
    },
    {
     "data": {
      "text/markdown": [
       "### Vocabulary Sample"
      ],
      "text/plain": [
       "<IPython.core.display.Markdown object>"
      ]
     },
     "metadata": {},
     "output_type": "display_data"
    },
    {
     "data": {
      "text/html": [
       "<div>\n",
       "<style scoped>\n",
       "    .dataframe tbody tr th:only-of-type {\n",
       "        vertical-align: middle;\n",
       "    }\n",
       "\n",
       "    .dataframe tbody tr th {\n",
       "        vertical-align: top;\n",
       "    }\n",
       "\n",
       "    .dataframe thead th {\n",
       "        text-align: right;\n",
       "    }\n",
       "</style>\n",
       "<table border=\"1\" class=\"dataframe\">\n",
       "  <thead>\n",
       "    <tr style=\"text-align: right;\">\n",
       "      <th></th>\n",
       "      <th>Character</th>\n",
       "      <th>Index</th>\n",
       "    </tr>\n",
       "  </thead>\n",
       "  <tbody>\n",
       "    <tr>\n",
       "      <th>0</th>\n",
       "      <td>﻿</td>\n",
       "      <td>0</td>\n",
       "    </tr>\n",
       "    <tr>\n",
       "      <th>1</th>\n",
       "      <td>t</td>\n",
       "      <td>1</td>\n",
       "    </tr>\n",
       "    <tr>\n",
       "      <th>2</th>\n",
       "      <td>h</td>\n",
       "      <td>2</td>\n",
       "    </tr>\n",
       "    <tr>\n",
       "      <th>3</th>\n",
       "      <td>e</td>\n",
       "      <td>3</td>\n",
       "    </tr>\n",
       "    <tr>\n",
       "      <th>4</th>\n",
       "      <td></td>\n",
       "      <td>4</td>\n",
       "    </tr>\n",
       "    <tr>\n",
       "      <th>5</th>\n",
       "      <td>p</td>\n",
       "      <td>5</td>\n",
       "    </tr>\n",
       "    <tr>\n",
       "      <th>6</th>\n",
       "      <td>r</td>\n",
       "      <td>6</td>\n",
       "    </tr>\n",
       "    <tr>\n",
       "      <th>7</th>\n",
       "      <td>o</td>\n",
       "      <td>7</td>\n",
       "    </tr>\n",
       "    <tr>\n",
       "      <th>8</th>\n",
       "      <td>j</td>\n",
       "      <td>8</td>\n",
       "    </tr>\n",
       "    <tr>\n",
       "      <th>9</th>\n",
       "      <td>c</td>\n",
       "      <td>9</td>\n",
       "    </tr>\n",
       "  </tbody>\n",
       "</table>\n",
       "</div>"
      ],
      "text/plain": [
       "  Character  Index\n",
       "0         ﻿      0\n",
       "1         t      1\n",
       "2         h      2\n",
       "3         e      3\n",
       "4                4\n",
       "5         p      5\n",
       "6         r      6\n",
       "7         o      7\n",
       "8         j      8\n",
       "9         c      9"
      ]
     },
     "metadata": {},
     "output_type": "display_data"
    }
   ],
   "source": [
    "import pandas as pd\n",
    "from gpt.datasets import CharacterLevelTextDataset\n",
    "from pathlib import Path\n",
    "from IPython.display import display, Markdown\n",
    "\n",
    "TEXT_DATA_PATH = Path(\"../data/bible-kjv.txt\")\n",
    "VOCABULARY_SAVE_PATH = Path(\"../vocabulary.md\")\n",
    "SEQUENCE_LENGTH = 3\n",
    "\n",
    "dataset = CharacterLevelTextDataset(TEXT_DATA_PATH, SEQUENCE_LENGTH)\n",
    "characteristics = {\n",
    "    \"Data path\": TEXT_DATA_PATH,\n",
    "    \"Sequence length\": f\"{SEQUENCE_LENGTH}\",\n",
    "    \"Dataset length\": f\"{len(dataset)}\",\n",
    "    \"Vocabulary size\": f\"{dataset.vocab_size}\",\n",
    "}\n",
    "\n",
    "df = pd.DataFrame(characteristics.items(), columns=[\"Parameter\", \"Value\"])\n",
    "display(Markdown(\"### Dataset Characteristics\"))\n",
    "display(df)\n",
    "\n",
    "vocab_data_frame = pd.DataFrame(\n",
    "    dataset.char_to_idx.items(), columns=[\"Character\", \"Index\"]\n",
    ")\n",
    "\n",
    "display(Markdown(\"### Vocabulary Sample\"))\n",
    "display(vocab_data_frame.head(10))"
   ]
  },
  {
   "cell_type": "markdown",
   "metadata": {},
   "source": [
    "## Instantiate and summarize the model\n"
   ]
  },
  {
   "cell_type": "code",
   "execution_count": 4,
   "metadata": {},
   "outputs": [
    {
     "data": {
      "text/plain": [
       "==========================================================================================\n",
       "Layer (type:depth-idx)                   Output Shape              Param #\n",
       "==========================================================================================\n",
       "GPTLanguageModel                         [1, 3, 62]                --\n",
       "├─Embedding: 1-1                         [1, 3, 128]               7,936\n",
       "├─Embedding: 1-2                         [1, 3, 128]               128,000\n",
       "├─ModuleList: 1-3                        --                        --\n",
       "│    └─TransformerBlock: 2-1             [1, 3, 128]               --\n",
       "│    │    └─MultiHeadAttention: 3-1      [1, 3, 128]               66,048\n",
       "│    │    └─LayerNorm: 3-2               [1, 3, 128]               256\n",
       "│    │    └─Dropout: 3-3                 [1, 3, 128]               --\n",
       "│    │    └─Sequential: 3-4              [1, 3, 128]               65,920\n",
       "│    │    └─LayerNorm: 3-5               [1, 3, 128]               256\n",
       "│    │    └─Dropout: 3-6                 [1, 3, 128]               --\n",
       "│    └─TransformerBlock: 2-2             [1, 3, 128]               --\n",
       "│    │    └─MultiHeadAttention: 3-7      [1, 3, 128]               66,048\n",
       "│    │    └─LayerNorm: 3-8               [1, 3, 128]               256\n",
       "│    │    └─Dropout: 3-9                 [1, 3, 128]               --\n",
       "│    │    └─Sequential: 3-10             [1, 3, 128]               65,920\n",
       "│    │    └─LayerNorm: 3-11              [1, 3, 128]               256\n",
       "│    │    └─Dropout: 3-12                [1, 3, 128]               --\n",
       "│    └─TransformerBlock: 2-3             [1, 3, 128]               --\n",
       "│    │    └─MultiHeadAttention: 3-13     [1, 3, 128]               66,048\n",
       "│    │    └─LayerNorm: 3-14              [1, 3, 128]               256\n",
       "│    │    └─Dropout: 3-15                [1, 3, 128]               --\n",
       "│    │    └─Sequential: 3-16             [1, 3, 128]               65,920\n",
       "│    │    └─LayerNorm: 3-17              [1, 3, 128]               256\n",
       "│    │    └─Dropout: 3-18                [1, 3, 128]               --\n",
       "│    └─TransformerBlock: 2-4             [1, 3, 128]               --\n",
       "│    │    └─MultiHeadAttention: 3-19     [1, 3, 128]               66,048\n",
       "│    │    └─LayerNorm: 3-20              [1, 3, 128]               256\n",
       "│    │    └─Dropout: 3-21                [1, 3, 128]               --\n",
       "│    │    └─Sequential: 3-22             [1, 3, 128]               65,920\n",
       "│    │    └─LayerNorm: 3-23              [1, 3, 128]               256\n",
       "│    │    └─Dropout: 3-24                [1, 3, 128]               --\n",
       "├─LayerNorm: 1-4                         [1, 3, 128]               256\n",
       "├─Linear: 1-5                            [1, 3, 62]                7,998\n",
       "==========================================================================================\n",
       "Total params: 674,110\n",
       "Trainable params: 674,110\n",
       "Non-trainable params: 0\n",
       "Total mult-adds (M): 0.67\n",
       "==========================================================================================\n",
       "Input size (MB): 0.00\n",
       "Forward/backward pass size (MB): 0.12\n",
       "Params size (MB): 2.70\n",
       "Estimated Total Size (MB): 2.82\n",
       "=========================================================================================="
      ]
     },
     "execution_count": 4,
     "metadata": {},
     "output_type": "execute_result"
    }
   ],
   "source": [
    "from gpt import GPTLanguageModel\n",
    "from pathlib import Path\n",
    "from torchinfo import summary\n",
    "\n",
    "VOCAB_SIZE = dataset.vocab_size\n",
    "SUMMARY_PATH = Path(\"../gpt2_summary.txt\")\n",
    "\n",
    "MODEL_DENSITY_FACTOR = 2\n",
    "# TODO: There may be a bug with the model as it should be posible to have heads be a multiple of 2.\n",
    "NUM_HEADS = int(4 * MODEL_DENSITY_FACTOR)  # Attention heads should be a multiple of 4\n",
    "NUM_LAYERS = int(NUM_HEADS / 2)  # Layers should be a multiple of 2:1 ratio with heads\n",
    "\n",
    "model = GPTLanguageModel(\n",
    "    vocab_size=VOCAB_SIZE,\n",
    "    embedding_size=128,\n",
    "    num_heads=NUM_HEADS,\n",
    "    num_layers=NUM_LAYERS,\n",
    "    hidden_size=256,\n",
    ").to(device)\n",
    "\n",
    "input_ids = torch.randint(0, VOCAB_SIZE, (1, SEQUENCE_LENGTH)).to(device)\n",
    "summary = summary(model, input_data=input_ids)\n",
    "\n",
    "with open(SUMMARY_PATH, \"w\") as f:\n",
    "    f.write(str(summary))\n",
    "\n",
    "summary"
   ]
  }
 ],
 "metadata": {
  "kernelspec": {
   "display_name": ".venv",
   "language": "python",
   "name": "python3"
  },
  "language_info": {
   "codemirror_mode": {
    "name": "ipython",
    "version": 3
   },
   "file_extension": ".py",
   "mimetype": "text/x-python",
   "name": "python",
   "nbconvert_exporter": "python",
   "pygments_lexer": "ipython3",
   "version": "3.10.9"
  }
 },
 "nbformat": 4,
 "nbformat_minor": 2
}
